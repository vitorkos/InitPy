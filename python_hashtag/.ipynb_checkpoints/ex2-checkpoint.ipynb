{
 "cells": [
  {
   "cell_type": "markdown",
   "id": "bb0f9514",
   "metadata": {},
   "source": [
    "# List"
   ]
  },
  {
   "cell_type": "markdown",
   "id": "4e7a8c30",
   "metadata": {},
   "source": [
    "#### 1. Write a program that prints the message \"Hello world\" on the screen."
   ]
  },
  {
   "cell_type": "code",
   "execution_count": 1,
   "id": "883bfe85",
   "metadata": {},
   "outputs": [
    {
     "name": "stdout",
     "output_type": "stream",
     "text": [
      "Hello world\n"
     ]
    }
   ],
   "source": [
    "print(\"Hello world\")"
   ]
  },
  {
   "cell_type": "markdown",
   "id": "71d6d6a2",
   "metadata": {},
   "source": [
    "#### 2. Write a program that asks for a number (input) and then displays the message: \"The number entered was [number].\""
   ]
  },
  {
   "cell_type": "code",
   "execution_count": 2,
   "id": "30cfffcf",
   "metadata": {},
   "outputs": [
    {
     "ename": "KeyboardInterrupt",
     "evalue": "Interrupted by user",
     "output_type": "error",
     "traceback": [
      "\u001b[0;31m---------------------------------------------------------------------------\u001b[0m",
      "\u001b[0;31mKeyboardInterrupt\u001b[0m                         Traceback (most recent call last)",
      "\u001b[0;32m/tmp/ipykernel_8299/3984763649.py\u001b[0m in \u001b[0;36m<module>\u001b[0;34m\u001b[0m\n\u001b[0;32m----> 1\u001b[0;31m \u001b[0mn\u001b[0m \u001b[0;34m=\u001b[0m \u001b[0mint\u001b[0m\u001b[0;34m(\u001b[0m\u001b[0minput\u001b[0m\u001b[0;34m(\u001b[0m\u001b[0;34m\"Enter a number: \"\u001b[0m\u001b[0;34m)\u001b[0m\u001b[0;34m)\u001b[0m\u001b[0;34m\u001b[0m\u001b[0;34m\u001b[0m\u001b[0m\n\u001b[0m\u001b[1;32m      2\u001b[0m \u001b[0mprint\u001b[0m\u001b[0;34m(\u001b[0m\u001b[0;34mf\"The number entered was {n}\"\u001b[0m\u001b[0;34m)\u001b[0m\u001b[0;34m\u001b[0m\u001b[0;34m\u001b[0m\u001b[0m\n",
      "\u001b[0;32m~/anaconda3/lib/python3.9/site-packages/ipykernel/kernelbase.py\u001b[0m in \u001b[0;36mraw_input\u001b[0;34m(self, prompt)\u001b[0m\n\u001b[1;32m   1175\u001b[0m                 \u001b[0;34m\"raw_input was called, but this frontend does not support input requests.\"\u001b[0m\u001b[0;34m\u001b[0m\u001b[0;34m\u001b[0m\u001b[0m\n\u001b[1;32m   1176\u001b[0m             )\n\u001b[0;32m-> 1177\u001b[0;31m         return self._input_request(\n\u001b[0m\u001b[1;32m   1178\u001b[0m             \u001b[0mstr\u001b[0m\u001b[0;34m(\u001b[0m\u001b[0mprompt\u001b[0m\u001b[0;34m)\u001b[0m\u001b[0;34m,\u001b[0m\u001b[0;34m\u001b[0m\u001b[0;34m\u001b[0m\u001b[0m\n\u001b[1;32m   1179\u001b[0m             \u001b[0mself\u001b[0m\u001b[0;34m.\u001b[0m\u001b[0m_parent_ident\u001b[0m\u001b[0;34m[\u001b[0m\u001b[0;34m\"shell\"\u001b[0m\u001b[0;34m]\u001b[0m\u001b[0;34m,\u001b[0m\u001b[0;34m\u001b[0m\u001b[0;34m\u001b[0m\u001b[0m\n",
      "\u001b[0;32m~/anaconda3/lib/python3.9/site-packages/ipykernel/kernelbase.py\u001b[0m in \u001b[0;36m_input_request\u001b[0;34m(self, prompt, ident, parent, password)\u001b[0m\n\u001b[1;32m   1217\u001b[0m             \u001b[0;32mexcept\u001b[0m \u001b[0mKeyboardInterrupt\u001b[0m\u001b[0;34m:\u001b[0m\u001b[0;34m\u001b[0m\u001b[0;34m\u001b[0m\u001b[0m\n\u001b[1;32m   1218\u001b[0m                 \u001b[0;31m# re-raise KeyboardInterrupt, to truncate traceback\u001b[0m\u001b[0;34m\u001b[0m\u001b[0;34m\u001b[0m\u001b[0m\n\u001b[0;32m-> 1219\u001b[0;31m                 \u001b[0;32mraise\u001b[0m \u001b[0mKeyboardInterrupt\u001b[0m\u001b[0;34m(\u001b[0m\u001b[0;34m\"Interrupted by user\"\u001b[0m\u001b[0;34m)\u001b[0m \u001b[0;32mfrom\u001b[0m \u001b[0;32mNone\u001b[0m\u001b[0;34m\u001b[0m\u001b[0;34m\u001b[0m\u001b[0m\n\u001b[0m\u001b[1;32m   1220\u001b[0m             \u001b[0;32mexcept\u001b[0m \u001b[0mException\u001b[0m\u001b[0;34m:\u001b[0m\u001b[0;34m\u001b[0m\u001b[0;34m\u001b[0m\u001b[0m\n\u001b[1;32m   1221\u001b[0m                 \u001b[0mself\u001b[0m\u001b[0;34m.\u001b[0m\u001b[0mlog\u001b[0m\u001b[0;34m.\u001b[0m\u001b[0mwarning\u001b[0m\u001b[0;34m(\u001b[0m\u001b[0;34m\"Invalid Message:\"\u001b[0m\u001b[0;34m,\u001b[0m \u001b[0mexc_info\u001b[0m\u001b[0;34m=\u001b[0m\u001b[0;32mTrue\u001b[0m\u001b[0;34m)\u001b[0m\u001b[0;34m\u001b[0m\u001b[0;34m\u001b[0m\u001b[0m\n",
      "\u001b[0;31mKeyboardInterrupt\u001b[0m: Interrupted by user"
     ]
    }
   ],
   "source": [
    "n = int(input(\"Enter a number: \"))\n",
    "print(f\"The number entered was {n}\")"
   ]
  },
  {
   "cell_type": "markdown",
   "id": "c5e43160",
   "metadata": {},
   "source": [
    "#### 3. Write a program that asks for two numbers and prints the sum."
   ]
  },
  {
   "cell_type": "code",
   "execution_count": null,
   "id": "b0e79590",
   "metadata": {},
   "outputs": [],
   "source": [
    "n1 = int(input(\"Enter a number: \"))\n",
    "n2 = int(input(\"Enter another number: \"))\n",
    "print(f\"The sum between {n1} and {n2} is {n1 + n2}\")"
   ]
  },
  {
   "cell_type": "markdown",
   "id": "17826987",
   "metadata": {},
   "source": [
    "#### 4. Make a program that asks for the 4 bimonthly grades of a student and shows the average of all grades."
   ]
  },
  {
   "cell_type": "code",
   "execution_count": null,
   "id": "23b66762",
   "metadata": {},
   "outputs": [],
   "source": [
    "n1 = float(input(\"Enter the first note of the student: \"))\n",
    "n2 = float(input(\"Enter the second note of the student: \"))\n",
    "n3 = float(input(\"Enter the third note of the student: \"))\n",
    "n4 = float(input(\"Enter the fourth note of the student: \")))\n",
    "\n",
    "final_note = (n1 + n2 + n3 + n4) / 4\n",
    "\n",
    "print(\"The final note of the student is {%.2f}\".format(final_note))"
   ]
  },
  {
   "cell_type": "markdown",
   "id": "62d461c5",
   "metadata": {},
   "source": [
    "#### 5. Write a program to convert meters to centimeters. You can ask the user for the length in meters (input)."
   ]
  },
  {
   "cell_type": "code",
   "execution_count": null,
   "id": "d642f1ba",
   "metadata": {},
   "outputs": [],
   "source": [
    "meter = float(input(\"Enter the meters: \"))\n",
    "centimeters = meters * 100\n",
    "\n",
    "print(\"the conversion of {} meters to centimeters is {%.2f} centimeters\".format(meters, centimeters))"
   ]
  },
  {
   "cell_type": "markdown",
   "id": "f1311697",
   "metadata": {},
   "source": [
    "#### 7. Faça um Programa que calcule a área de uma sala de um apartamento. Para isso, o seu programa precisa pedir a largura da sala, o comprimento da sala e imprimir a área em m² da sala."
   ]
  },
  {
   "cell_type": "code",
   "execution_count": null,
   "id": "612ea24b",
   "metadata": {},
   "outputs": [],
   "source": [
    "width = float(input(\"Enter the width of the room: \"))\n",
    "length = float(input(\"Enter the length of the room: \"))\n",
    "area = width * length\n",
    "\n",
    "print(\"The area of the room is {%.2f}\".format(area))"
   ]
  },
  {
   "cell_type": "markdown",
   "id": "2a285929",
   "metadata": {},
   "source": [
    "#### 8. Make a Program that asks how much you earn per hour and the number of hours worked in the month. Calculate and show the total of your salary in that month."
   ]
  },
  {
   "cell_type": "code",
   "execution_count": null,
   "id": "359e2232",
   "metadata": {},
   "outputs": [],
   "source": [
    "hour = float(input(\"How much you earn per hour? \"))\n",
    "h_worked = float(input(\"How many hours have you worked? \"))\n",
    "\n",
    "wage = hour * h_worked\n",
    "\n",
    "print(\"The wage of the worker in this month is ${%.2f}\".format(wage))"
   ]
  },
  {
   "cell_type": "markdown",
   "id": "7e2d4615",
   "metadata": {},
   "source": [
    "#### 9. Let's create a temperature converter. Make a Program that asks for the temperature in degrees Fahrenheit, transforms it and shows the temperature in degrees Celsius.\n",
    "$C = \\frac{5}{9}(F-32)$"
   ]
  },
  {
   "cell_type": "code",
   "execution_count": null,
   "id": "82daf9fd",
   "metadata": {},
   "outputs": [],
   "source": [
    "fh = float(input(\"Enter the temperature in Fahrenheit: \"))\n",
    "celsius = float((fh - 32) * (5 / 9))\n",
    "\n",
    "print(\"{%.1f} in Fahrenheit converted to Celsius is {%.1f}\".format(fh, celsius))"
   ]
  },
  {
   "cell_type": "markdown",
   "id": "20708b1c",
   "metadata": {},
   "source": [
    "#### 10. Make a program that asks for the temperature in degrees Celsius, transforms it and shows it in degrees Fahrenheit."
   ]
  },
  {
   "cell_type": "code",
   "execution_count": null,
   "id": "c73cfb38",
   "metadata": {},
   "outputs": [],
   "source": [
    "celsius = float(input(\"Enter the tmperature in Celsius: \"))\n",
    "fh = float(9 / 5 * celsius + 32)\n",
    "\n",
    "print(\"{%.1f} in Celsius is {%.1f}\".format(celsius, fh))"
   ]
  },
  {
   "cell_type": "markdown",
   "id": "b263a9dc",
   "metadata": {},
   "source": [
    "#### 12. Having as input data the height (h) of a person, build an algorithm that calculates your ideal weight, using the following formula:\n",
    "\n",
    "$P = 72,7h - 58$\n",
    "\n",
    "Lembrando que \"algoritmo\" nada mais é do que um programa, como todos os outros que você vem fazendo"
   ]
  },
  {
   "cell_type": "code",
   "execution_count": null,
   "id": "9a9b8dca",
   "metadata": {},
   "outputs": [],
   "source": []
  },
  {
   "cell_type": "markdown",
   "id": "13bb40d7",
   "metadata": {},
   "source": [
    "#### 13. Having as input data the height (h) of a person, build an algorithm that calculates his ideal weight, using the following formulas:\n",
    "##### a. Men: $P = 72,7h - 58$\n",
    "##### b. Women: $P = 62,1h - 44,7$"
   ]
  },
  {
   "cell_type": "code",
   "execution_count": null,
   "id": "bf82dc8c",
   "metadata": {},
   "outputs": [],
   "source": []
  },
  {
   "cell_type": "markdown",
   "id": "f208ef89",
   "metadata": {},
   "source": [
    "#### 15. Make a Program that asks how much you earn per hour and the number of hours worked in the month."
   ]
  },
  {
   "cell_type": "code",
   "execution_count": null,
   "id": "2d5b23e0",
   "metadata": {},
   "outputs": [],
   "source": [
    "p_hour = float(input(\"How much you earn per hour? \"))\n",
    "w_hour = float(input(\"How many hours you have worked? \"))"
   ]
  },
  {
   "cell_type": "markdown",
   "id": "607dee3c",
   "metadata": {},
   "source": [
    "#####  Calculate gross salary (hours * hourly wage)"
   ]
  },
  {
   "cell_type": "code",
   "execution_count": null,
   "id": "7f80ccbb",
   "metadata": {},
   "outputs": [],
   "source": [
    "brute_wage = float(p_hour * w_hour)\n",
    "print(\"The brute wage is ${%.2f}\".format(brute_wage))"
   ]
  },
  {
   "cell_type": "markdown",
   "id": "2ed93cb0",
   "metadata": {},
   "source": [
    "##### Calculate the IR discount (11% of gross salary)"
   ]
  },
  {
   "cell_type": "code",
   "execution_count": null,
   "id": "3363e22f",
   "metadata": {},
   "outputs": [],
   "source": [
    "IR = float(brute_wage * 0.11)\n",
    "print(\"The wage with a discont of the IR is ${%.2f}\".format(brute_wage - IR))"
   ]
  },
  {
   "cell_type": "markdown",
   "id": "0994b2c0",
   "metadata": {},
   "source": [
    "##### Calculate the INSS discount (8% of gross salary)"
   ]
  },
  {
   "cell_type": "code",
   "execution_count": null,
   "id": "748c6088",
   "metadata": {},
   "outputs": [],
   "source": [
    "INSS = float((brute_wage * 0.08))\n",
    "print(\"The wage with a discont of the INSS is ${%.2f}\".format(brute_wage - INSS))"
   ]
  },
  {
   "cell_type": "markdown",
   "id": "06e8dae4",
   "metadata": {},
   "source": [
    "##### Calculate the union discount (5% of gross salary)"
   ]
  },
  {
   "cell_type": "code",
   "execution_count": null,
   "id": "21b95b15",
   "metadata": {
    "scrolled": true
   },
   "outputs": [],
   "source": [
    "sindicate = float(brute_wage * 0.05)\n",
    "print(\"The wage with a discont of the sindicate is ${%.2f}\".format(brute_wage - sindicate))"
   ]
  },
  {
   "cell_type": "markdown",
   "id": "bb14ce36",
   "metadata": {},
   "source": [
    "##### Calculate net salary (gross salary - deductions)"
   ]
  },
  {
   "cell_type": "code",
   "execution_count": null,
   "id": "56317086",
   "metadata": {},
   "outputs": [],
   "source": [
    "total_discont = sindicate + INSS + IR\n",
    "print(\"the wage with the total discont os {%.2f}\".format(total_discont))"
   ]
  },
  {
   "cell_type": "markdown",
   "id": "cfbfcc87",
   "metadata": {},
   "source": [
    "#### 16. Make a program for a paint store. The program should ask for the size in square meters of the area to be painted. Consider that the coverage of the paint is 1 liter for every 3 square meters and that the paint is sold in 18 liter cans, which cost R$ 80.00. Inform the user of the quantity of paint cans to be purchased and the total price. (for simplicity at this point, don't bother rounding up the amount of cans to buy - we'll work on that shortly)"
   ]
  },
  {
   "cell_type": "code",
   "execution_count": null,
   "id": "fb6a083b",
   "metadata": {},
   "outputs": [],
   "source": [
    "width = float(input(\"Enter the width in meters: \"))\n",
    "length = float(input(\"Enter the length in meters: \"))\n",
    "area = width * length\n",
    "liter = area / 3\n",
    "can = liter / 18\n",
    "price  = can * 80\n",
    "\n",
    "print(\"For paint a {%.2f} area it will be used [%.0f] liters of tint and will cost ${%.2f}\".format(area, liter, price))"
   ]
  },
  {
   "cell_type": "markdown",
   "id": "d6503c92",
   "metadata": {},
   "source": [
    "#### 18. Make a program that asks for the size of a file to download (in MB) and the speed of an Internet link (in Mbps), calculate and report the approximate time to download the file using this link (in minutes).\n",
    "\n",
    "Detail: MB means megabyte, Mb (with a lowercase b) means megabit. A megabit is 1/8 of a megabyte."
   ]
  },
  {
   "cell_type": "code",
   "execution_count": null,
   "id": "0563aa62",
   "metadata": {},
   "outputs": [],
   "source": [
    "size = float(input(\"Enter the size of the file in MB\"))\n",
    "speed = float(input(\"Enter the speed of the download in Mbps\"))\n",
    "\n",
    "\n",
    "size_megabits = size * 8\n",
    "\n",
    "time = size_megabits / speed\n",
    "\n",
    "time_minutes = time / 60\n",
    "print(f\"The of the download is {time_minutes} minutes\")"
   ]
  }
 ],
 "metadata": {
  "kernelspec": {
   "display_name": "Python 3 (ipykernel)",
   "language": "python",
   "name": "python3"
  },
  "language_info": {
   "codemirror_mode": {
    "name": "ipython",
    "version": 3
   },
   "file_extension": ".py",
   "mimetype": "text/x-python",
   "name": "python",
   "nbconvert_exporter": "python",
   "pygments_lexer": "ipython3",
   "version": "3.9.13"
  }
 },
 "nbformat": 4,
 "nbformat_minor": 5
}

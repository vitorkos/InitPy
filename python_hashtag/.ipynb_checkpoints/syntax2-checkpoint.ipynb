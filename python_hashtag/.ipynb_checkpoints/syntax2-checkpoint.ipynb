{
 "cells": [
  {
   "cell_type": "markdown",
   "id": "52883c94",
   "metadata": {},
   "source": [
    "## Types of variables\n",
    "\n",
    "int = integral\n",
    "\n",
    "float = decimal number\n",
    "\n",
    "string = \"text\"\n",
    "\n",
    "bool = true or false\n",
    "\n",
    "Variables are not declared explicit in Python"
   ]
  },
  {
   "cell_type": "code",
   "execution_count": 1,
   "id": "377365b1",
   "metadata": {},
   "outputs": [
    {
     "data": {
      "text/plain": [
       "int"
      ]
     },
     "execution_count": 1,
     "metadata": {},
     "output_type": "execute_result"
    }
   ],
   "source": [
    "integral = 1\n",
    "type(integral)"
   ]
  },
  {
   "cell_type": "code",
   "execution_count": 2,
   "id": "0cffe718",
   "metadata": {},
   "outputs": [
    {
     "data": {
      "text/plain": [
       "float"
      ]
     },
     "execution_count": 2,
     "metadata": {},
     "output_type": "execute_result"
    }
   ],
   "source": [
    "floating = 1.0\n",
    "type(floating)"
   ]
  },
  {
   "cell_type": "code",
   "execution_count": 3,
   "id": "3cbff977",
   "metadata": {},
   "outputs": [
    {
     "data": {
      "text/plain": [
       "str"
      ]
     },
     "execution_count": 3,
     "metadata": {},
     "output_type": "execute_result"
    }
   ],
   "source": [
    "string = 'string'\n",
    "type(string)"
   ]
  },
  {
   "cell_type": "code",
   "execution_count": 4,
   "id": "d88d2c38",
   "metadata": {},
   "outputs": [
    {
     "data": {
      "text/plain": [
       "bool"
      ]
     },
     "execution_count": 4,
     "metadata": {},
     "output_type": "execute_result"
    }
   ],
   "source": [
    "boolean = True\n",
    "type(boolean)"
   ]
  },
  {
   "cell_type": "markdown",
   "id": "23f8c802",
   "metadata": {},
   "source": [
    "## You cant mix types"
   ]
  },
  {
   "cell_type": "code",
   "execution_count": 6,
   "id": "175a6053",
   "metadata": {},
   "outputs": [
    {
     "name": "stdout",
     "output_type": "stream",
     "text": [
      "the profit was 250\n"
     ]
    }
   ],
   "source": [
    "revanue = 1000\n",
    "cost = 750\n",
    "profit = revanue - cost\n",
    "#print(\"the profit was \" + profit)##error\n",
    "\n",
    "print(\"the profit was \" + str(profit))#it will run\n",
    "\n",
    "#in this case, we \"transform a int in a string to our code run\""
   ]
  },
  {
   "cell_type": "markdown",
   "id": "a6bbf142",
   "metadata": {},
   "source": [
    "## Format method (the %x in C)"
   ]
  },
  {
   "cell_type": "code",
   "execution_count": 8,
   "id": "98dfa3aa",
   "metadata": {},
   "outputs": [
    {
     "name": "stdout",
     "output_type": "stream",
     "text": [
      "the profit of the store was 250\n",
      "the revanue was 1000, the cost 750 and the profit250 \n"
     ]
    }
   ],
   "source": [
    "print(\"the profit of the store was {}\".format(profit))\n",
    "\n",
    "#the format method formats the specified value and insert it in a string\n",
    "\n",
    "print(\"the revanue was {}, the cost {} and the profit{} \".format(revanue, cost, profit))"
   ]
  },
  {
   "cell_type": "markdown",
   "id": "7147c98b",
   "metadata": {},
   "source": [
    "## F-string"
   ]
  },
  {
   "cell_type": "code",
   "execution_count": 9,
   "id": "18a18e89",
   "metadata": {},
   "outputs": [
    {
     "name": "stdout",
     "output_type": "stream",
     "text": [
      "the revanue was 1000, the cost 750 and the profit250 \n",
      "the revanue was 1000, the cost 750 and the profit250 \n"
     ]
    }
   ],
   "source": [
    "#using format method\n",
    "print(\"the revanue was {}, the cost {} and the profit{} \".format(revanue, cost, profit))\n",
    "\n",
    "#using f_string\n",
    "\n",
    "print(f\"the revanue was {revanue}, the cost {cost} and the profit{profit} \")"
   ]
  },
  {
   "cell_type": "markdown",
   "id": "78c79c74",
   "metadata": {},
   "source": [
    "## Changing and declaring types of variables"
   ]
  },
  {
   "cell_type": "code",
   "execution_count": 13,
   "id": "b4dfc1b7",
   "metadata": {},
   "outputs": [
    {
     "name": "stdout",
     "output_type": "stream",
     "text": [
      "enter the revanue: 10\n",
      "enter the cost: 2\n",
      "8\n"
     ]
    }
   ],
   "source": [
    "#revanue = input(\"enter the revanue: \")\n",
    "\n",
    "#cost = input(\"enter the cost: \")\n",
    "\n",
    "#profit = revanue - cost\n",
    "\n",
    "#print(profit)error\n",
    "\n",
    "#the error occurs becase in a simple input, the variable\n",
    "#is understood as a string\n",
    "\n",
    "#the way to do it right is declaring the type in the variable###\n",
    "\n",
    "revanue = int(input(\"enter the revanue: \"))\n",
    "\n",
    "cost = int(input(\"enter the cost: \"))\n",
    "\n",
    "profit = revanue - cost\n",
    "\n",
    "print(profit)"
   ]
  }
 ],
 "metadata": {
  "kernelspec": {
   "display_name": "Python 3 (ipykernel)",
   "language": "python",
   "name": "python3"
  },
  "language_info": {
   "codemirror_mode": {
    "name": "ipython",
    "version": 3
   },
   "file_extension": ".py",
   "mimetype": "text/x-python",
   "name": "python",
   "nbconvert_exporter": "python",
   "pygments_lexer": "ipython3",
   "version": "3.9.13"
  }
 },
 "nbformat": 4,
 "nbformat_minor": 5
}

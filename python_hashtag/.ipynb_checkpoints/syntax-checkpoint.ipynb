{
 "cells": [
  {
   "cell_type": "markdown",
   "id": "e121c089",
   "metadata": {},
   "source": [
    "this is a markdown text, so it will be showed in the screen but not executed like a code"
   ]
  },
  {
   "cell_type": "code",
   "execution_count": 4,
   "id": "0ef1f09c",
   "metadata": {},
   "outputs": [
    {
     "name": "stdout",
     "output_type": "stream",
     "text": [
      "1 2\n",
      "hello world\n"
     ]
    }
   ],
   "source": [
    "#is not commun use INDENTATION on python\n",
    "\n",
    "#this will not be printed\n",
    "\n",
    "print(1)\n",
    "print(1, 2)\n",
    "\n",
    "print(hello world) # error\n",
    "\n",
    "#if in a print the content of the function isnt in quote itll be\n",
    "#interpreted as a number if it is or as a variable\n",
    "\n",
    "print('hello world')\n",
    "\n",
    "#\"\" means a string"
   ]
  },
  {
   "cell_type": "markdown",
   "id": "db1c0544",
   "metadata": {},
   "source": [
    "basic math operations"
   ]
  },
  {
   "cell_type": "code",
   "execution_count": 1,
   "id": "8120456e",
   "metadata": {
    "scrolled": false
   },
   "outputs": [
    {
     "name": "stdout",
     "output_type": "stream",
     "text": [
      "2\n",
      "1 + 1\n",
      "10\n",
      "2.0\n",
      "0\n",
      "5.0\n",
      "7\n",
      "9\n"
     ]
    }
   ],
   "source": [
    "print(1 + 1) # print the result of the operation\n",
    "\n",
    "print('1 + 1') #will print as a string\n",
    "\n",
    "print(2 * 5)#print the multiplication\n",
    "\n",
    "print(10 / 5)#print the division between the two numbers\n",
    "\n",
    "print(10 % 5)#print the rest of the division between the two \n",
    "#numbers\n",
    "\n",
    "print(2.5 * 2)#integer number have always a .\n",
    "\n",
    "print(1 + 2 * 3)\n",
    "\n",
    "print((1 + 2) * 3)"
   ]
  },
  {
   "cell_type": "markdown",
   "id": "96976e0a",
   "metadata": {},
   "source": [
    "basic operations with strings"
   ]
  },
  {
   "cell_type": "code",
   "execution_count": 4,
   "id": "a66fe8a8",
   "metadata": {},
   "outputs": [
    {
     "name": "stdout",
     "output_type": "stream",
     "text": [
      "my name is Vitor\n",
      "my name is Vitor\n",
      "True\n"
     ]
    }
   ],
   "source": [
    "print('my name is Vitor')#simple string print\n",
    "\n",
    "print('my name is ' + 'Vitor')#concatenate string\n",
    "\n",
    "print('Vitor' in 'my name is Vitor')#verify if a string is in another\n",
    "\n"
   ]
  },
  {
   "cell_type": "markdown",
   "id": "ca88a89e",
   "metadata": {},
   "source": [
    "variables"
   ]
  },
  {
   "cell_type": "code",
   "execution_count": 6,
   "id": "bfc49edd",
   "metadata": {},
   "outputs": [
    {
     "name": "stdout",
     "output_type": "stream",
     "text": [
      "Vitor\n",
      "1500\n"
     ]
    }
   ],
   "source": [
    "sold = 1500\n",
    "name = 'Vitor'\n",
    "\n",
    "print(name)\n",
    "print(sold)"
   ]
  },
  {
   "cell_type": "markdown",
   "id": "f5867eae",
   "metadata": {},
   "source": [
    "input"
   ]
  },
  {
   "cell_type": "code",
   "execution_count": 10,
   "id": "b6105aba",
   "metadata": {},
   "outputs": [
    {
     "name": "stdout",
     "output_type": "stream",
     "text": [
      "whats your first name? vitor\n",
      "whats your second name? kauã\n",
      "your name is  vitor kauã\n"
     ]
    }
   ],
   "source": [
    "#input('whats you name? ') \n",
    "\n",
    "name = input('whats your first name? ')\n",
    "s_name = input('whats your second name? ')\n",
    "\n",
    "print('your name is ', name + ' ' + s_name)"
   ]
  }
 ],
 "metadata": {
  "kernelspec": {
   "display_name": "Python 3 (ipykernel)",
   "language": "python",
   "name": "python3"
  },
  "language_info": {
   "codemirror_mode": {
    "name": "ipython",
    "version": 3
   },
   "file_extension": ".py",
   "mimetype": "text/x-python",
   "name": "python",
   "nbconvert_exporter": "python",
   "pygments_lexer": "ipython3",
   "version": "3.9.13"
  }
 },
 "nbformat": 4,
 "nbformat_minor": 5
}

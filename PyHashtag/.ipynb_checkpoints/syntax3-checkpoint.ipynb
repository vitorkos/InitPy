{
 "cells": [
  {
   "cell_type": "markdown",
   "id": "39565f75",
   "metadata": {},
   "source": [
    "## If, else and elif (condicion structure)"
   ]
  },
  {
   "cell_type": "markdown",
   "id": "9dcea6bd",
   "metadata": {},
   "source": [
    "### Structure:\n",
    "\n",
    "if condicion:\n",
    "\n",
    "    action if the condicion happen\n",
    "   \n",
    "elif another condicion:\n",
    "\n",
    "    action if the first condicion not happen and the second happen\n",
    "    \n",
    "else:\n",
    "\n",
    "    action if none of the condicions not happen\n",
    "\n",
    "#### In python, the indentation works to separate structures like if and else condicions, repeticions structures and classes and objects\n",
    "\n",
    "### More condicions\n",
    "\n",
    "and\n",
    "\n",
    "more\n",
    "\n",
    "if condicion and condicion:\n",
    "\n",
    "    action\n",
    "    \n",
    "if condicion or condicion:\n",
    "\n",
    "    action\n",
    "    \n",
    "### Verifie condicions\n",
    "\n",
    "if < variable >: (verifies if the condicion have any content and if it have, do some action)\n",
    "    \n",
    "    action\n",
    "    \n",
    "if <> == ''"
   ]
  },
  {
   "cell_type": "code",
   "execution_count": 4,
   "id": "6521922e",
   "metadata": {},
   "outputs": [
    {
     "name": "stdout",
     "output_type": "stream",
     "text": [
      "How much was sold? 21\n",
      "the sold was more than the goal\n"
     ]
    }
   ],
   "source": [
    "goal = 20\n",
    "sold = float(input(\"How much was sold? \"))\n",
    "\n",
    "if sold >= goal:\n",
    "    if sold > goal:\n",
    "        print(\"the sold was more than the goal\")\n",
    "    elif sold == goal:\n",
    "        print(\"The goal was hit\")\n",
    "else:\n",
    "    print(\"The goal wasnt hit\")\n",
    "#in a structure, mainly in the condicion ones, you have to be the clearer possible"
   ]
  },
  {
   "cell_type": "markdown",
   "id": "11d4b4c5",
   "metadata": {},
   "source": [
    "## Comparators\n",
    "\n",
    "==    equal\n",
    "\n",
    "!=    diferent\n",
    "\n",
    ".>     bigger then (>= bigger or equal)\n",
    "\n",
    "<     minor then (<= minor or equal)\n",
    "\n",
    "in    verifie if text exist in a string \n",
    "\n",
    "not   verifie the opost of the comparation\n",
    "\n",
    "Obs: if in some condicion you dont want to write nothing you can just type:\n",
    "pass"
   ]
  },
  {
   "cell_type": "markdown",
   "id": "9ec92afe",
   "metadata": {},
   "source": []
  }
 ],
 "metadata": {
  "kernelspec": {
   "display_name": "Python 3 (ipykernel)",
   "language": "python",
   "name": "python3"
  },
  "language_info": {
   "codemirror_mode": {
    "name": "ipython",
    "version": 3
   },
   "file_extension": ".py",
   "mimetype": "text/x-python",
   "name": "python",
   "nbconvert_exporter": "python",
   "pygments_lexer": "ipython3",
   "version": "3.9.13"
  }
 },
 "nbformat": 4,
 "nbformat_minor": 5
}

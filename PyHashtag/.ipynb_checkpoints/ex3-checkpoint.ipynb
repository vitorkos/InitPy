{
 "cells": [
  {
   "cell_type": "markdown",
   "metadata": {},
   "source": [
    "# Exercícios com if"
   ]
  },
  {
   "cell_type": "markdown",
   "metadata": {},
   "source": [
    "## 1. Bonus\n",
    "\n",
    "- Create a program that calculates and prints the bonus that employees should receive according to the rule:\n",
    "\n",
    "The goal is 1000 sales.\n",
    "If the sales amount is greater than or equal to the target, the employee's bonus amount is 10% of the sales amount.\n",
    "Otherwise the employee's bonus value is 0.\n",
    "Print the bonus of the 3 employees"
   ]
  },
  {
   "cell_type": "code",
   "execution_count": 6,
   "metadata": {},
   "outputs": [
    {
     "name": "stdout",
     "output_type": "stream",
     "text": [
      "The first employee had 100.0 of bonus\n",
      "The second employee had 0 of bonus\n",
      "The first employee had 270.0 of bonus\n"
     ]
    }
   ],
   "source": [
    "employee1 = 1000\n",
    "employee2 = 770\n",
    "employee3 = 2700\n",
    "goal = 1000\n",
    "\n",
    "if employee1 >= goal:\n",
    "    print(\"The first employee had {} of bonus\".format(employee1 * 0.1))\n",
    "else:\n",
    "    print(\"The first employee had 0 of bonus\")\n",
    "if employee2 >= goal:\n",
    "    print(\"The second employee had {} of bonus\".format(employee2 * 0.1))\n",
    "else:\n",
    "    print(\"The second employee had 0 of bonus\")\n",
    "if employee3 >= goal:\n",
    "    print(\"The first employee had {} of bonus\".format(employee3 * 0.1))\n",
    "else:\n",
    "    print(\"The third employee had 0 of bonus\")"
   ]
  },
  {
   "cell_type": "markdown",
   "metadata": {},
   "source": [
    "## 2. Bonus with new rule\n",
    "\n",
    "- Now, create a new code that calculates and prints the employee bonus again. However, there is a new rule in this 2nd case:\n",
    "\n",
    "The goal is 1000 sales\n",
    "Now, employees who sell well above the target earn more bonuses than others. Then the bonus is defined as follows:\n",
    "\n",
    "- If employee sales is greater than or equal to 2000, then the bonus is 15% on the sales amount\n",
    "- If employee sales is less than 2000 and greater than or equal to 1000, then the bonus is 10% on the sales amount\n",
    "- If employee sales is less than 1000 then the employee's bonus is 0.\n",
    "\n",
    "Use the same variables as sales_employees"
   ]
  },
  {
   "cell_type": "code",
   "execution_count": 12,
   "metadata": {},
   "outputs": [
    {
     "name": "stdout",
     "output_type": "stream",
     "text": [
      "The first employee had 100.0 of bonus\n",
      "The second employee had 0 of bonus\n",
      "The third employee had 405.0 of bonus\n"
     ]
    }
   ],
   "source": [
    "employee1 = 1000\n",
    "employee2 = 770\n",
    "employee3 = 2700\n",
    "goal = 1000\n",
    "\n",
    "if employee1 >= goal:\n",
    "    if employee1 >= 2000:\n",
    "        print(\"The first employee had {} of bonus\".format(employee1 * 0.15))\n",
    "    else:\n",
    "        print(\"The first employee had {} of bonus\".format(employee1 * 0.1))\n",
    "else:\n",
    "    print(\"The first employee had 0 of bonus\")\n",
    "    \n",
    "if employee2 >= goal:\n",
    "    print(\"The second employee had {} of bonus\".format(employee2 * 0.1))\n",
    "    if employee2 >= 2000:\n",
    "        print(\"The second employee had {} of bonus\".format(employee2 * 0.15))\n",
    "    else:\n",
    "        print(\"The second employee had {} of bonus\".format(employee2 * 0.1))\n",
    "else:\n",
    "    print(\"The second employee had 0 of bonus\")\n",
    "    \n",
    "if employee3 >= goal:\n",
    "    if employee3 >= 2000:\n",
    "        print(\"The third employee had {} of bonus\".format(employee3 * 0.15))\n",
    "    else:\n",
    "        print(\"The third employee had {} of bonus\".format(employee3 * 0.1))\n",
    "else:\n",
    "    print(\"The third employee had 0 of bonus\")"
   ]
  }
 ],
 "metadata": {
  "kernelspec": {
   "display_name": "Python 3 (ipykernel)",
   "language": "python",
   "name": "python3"
  },
  "language_info": {
   "codemirror_mode": {
    "name": "ipython",
    "version": 3
   },
   "file_extension": ".py",
   "mimetype": "text/x-python",
   "name": "python",
   "nbconvert_exporter": "python",
   "pygments_lexer": "ipython3",
   "version": "3.9.13"
  }
 },
 "nbformat": 4,
 "nbformat_minor": 4
}

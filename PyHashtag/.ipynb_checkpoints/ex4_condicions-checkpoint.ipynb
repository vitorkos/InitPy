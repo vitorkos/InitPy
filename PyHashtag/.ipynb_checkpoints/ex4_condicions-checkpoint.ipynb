{
 "cells": [
  {
   "cell_type": "markdown",
   "metadata": {},
   "source": [
    "# Exercícios"
   ]
  },
  {
   "cell_type": "markdown",
   "metadata": {},
   "source": [
    "## 1. Stock control\n",
    "\n",
    "- Create a system to be used by the stock control team of a distribution center.\n",
    "- Imagine that at the end of every day, the team counts how many units of product are in stock. If we have a stock below the stock allowed for that product category, the team must be notified (print) to place a new order for that product.\n",
    "- Each product category has a different minimum stock, according to the rule below:\n",
    "\n",
    "- food -> Minimum stock: 50\n",
    "- drinks -> Minimum stock: 75\n",
    "- cleaning -> Minimum stock: 30\n",
    "\n",
    "For this, we are going to create a program that asks for 3 inputs from the user: product name, category and current quantity in stock.\n",
    "\n",
    "If the product has less than the minimum stock for its category, the program should print the message \"Request {product} from the purchasing team, we only have {units} in stock\"\n",
    "\n",
    "Example: If the user fills in the inputs with: drinks, dolly, 90, the program must not display any message.<br>\n",
    "Now, if the user fills in the inputs with: drinks, guaraná, 60, the program should display the message \"Request guaraná from the purchasing team, we only have 60 units in stock.\n",
    "\n",
    "Note: remember to use int() to transform the number entered by the user in the string input to int.<br>\n",
    "Obs2: If the user does not fill in any of the 3 pieces of information, the program must display a message to warn him to fill in correctly."
   ]
  },
  {
   "cell_type": "code",
   "execution_count": 2,
   "metadata": {},
   "outputs": [
    {
     "name": "stdout",
     "output_type": "stream",
     "text": [
      "Enter the product name: dolly\n",
      "Enter the category of the product(food, drink, cleaning): drink\n",
      "Enter the number stocked: 12\n",
      "Request 63 of food from the purchasing team, we only have 12 units in stock\n"
     ]
    }
   ],
   "source": [
    "min_food = 50\n",
    "min_drink = 75\n",
    "min_clean = 30\n",
    "\n",
    "name = str(input(\"Enter the product name: \"))\n",
    "if name:\n",
    "    category = str(input(\"Enter the category of the product(food, drink, cleaning): \"))\n",
    "    if category:\n",
    "        stock = int(input(\"Enter the number stocked: \"))\n",
    "        if stock:\n",
    "            if category == \"food\" and stock < 50:\n",
    "                print(\"Request {} of food from the purchasing team, we only have {} units in stock\".format(min_food - stock, stock))\n",
    "            else:\n",
    "                pass\n",
    "            \n",
    "            if category == \"drink\" and stock < 75:\n",
    "                print(\"Request {} of food from the purchasing team, we only have {} units in stock\".format(min_drink - stock, stock))\n",
    "            else:\n",
    "                pass\n",
    "            \n",
    "            if category == \"cleaning\" and stock < 30:\n",
    "                print(\"Request {} of food from the purchasing team, we only have {} units in stock\".format(min_clean - stock, stock))\n",
    "            else:\n",
    "                pass\n",
    "        else:\n",
    "            print(\"Enter a valid stock\")\n",
    "    else:\n",
    "        print(\"Enter a valid 'categoty\")\n",
    "else:\n",
    "    print(\"Enter a valid name\")"
   ]
  }
 ],
 "metadata": {
  "kernelspec": {
   "display_name": "Python 3 (ipykernel)",
   "language": "python",
   "name": "python3"
  },
  "language_info": {
   "codemirror_mode": {
    "name": "ipython",
    "version": 3
   },
   "file_extension": ".py",
   "mimetype": "text/x-python",
   "name": "python",
   "nbconvert_exporter": "python",
   "pygments_lexer": "ipython3",
   "version": "3.9.13"
  }
 },
 "nbformat": 4,
 "nbformat_minor": 4
}

{
 "cells": [
  {
   "cell_type": "markdown",
   "id": "8535c274",
   "metadata": {
    "id": "8535c274"
   },
   "source": [
    "# Decision structures"
   ]
  },
  {
   "cell_type": "markdown",
   "id": "9c3d817e",
   "metadata": {
    "id": "9c3d817e"
   },
   "source": [
    "#### 1. Write a program that asks for two numbers and prints the larger one."
   ]
  },
  {
   "cell_type": "code",
   "execution_count": null,
   "id": "ae45c028",
   "metadata": {
    "id": "ae45c028"
   },
   "outputs": [],
   "source": [
    "n1 = int(input(\"Enter a number\"))\n",
    "\n",
    "n2 = int(input(\"Enter another number\"))\n",
    "\n",
    "if n1 > n2:\n",
    "    print(\"n1 is the bigger number\")\n",
    "else:\n",
    "    print(\"n2 is the bigger number\")"
   ]
  },
  {
   "cell_type": "markdown",
   "id": "ff510803",
   "metadata": {
    "id": "ff510803"
   },
   "source": [
    "#### 2. Make a Program that asks for a value and shows on the screen if the value is positive or negative."
   ]
  },
  {
   "cell_type": "code",
   "execution_count": null,
   "id": "8952f58f",
   "metadata": {
    "id": "8952f58f"
   },
   "outputs": [],
   "source": [
    "n1 = float(input(\"Enter a number\"))\n",
    "\n",
    "if n1 >= 0:\n",
    "    print(\"the number is positive\")\n",
    "else:\n",
    "    print(\"thee number is negative\")"
   ]
  },
  {
   "cell_type": "markdown",
   "id": "6966546b",
   "metadata": {
    "id": "6966546b"
   },
   "source": [
    "#### 3. Make a program that checks a person's marital status. If the letter entered is \"C\" (Married), \"S\" (Single), \"D\" (Divorced), \"V\" (Widowed) or \"O\" (other). According to the letter written by the user, your program must write the marital status, example:\n",
    "\n",
    "User types: C\n",
    "\n",
    "Your program should respond:\n",
    "C - Married"
   ]
  },
  {
   "cell_type": "code",
   "execution_count": null,
   "id": "876a1e67",
   "metadata": {
    "id": "876a1e67"
   },
   "outputs": [],
   "source": [
    "state = str(input(\"What state the peaplo is: (C : Maried, S : Single, D : Divorced, V : Window, O : Other)\"))\n",
    "\n",
    "if state == 'C':\n",
    "    print(\"C - Married\")\n",
    "\n",
    "elif state == 'S'\n",
    "    print(\"S - Single\")\n",
    "\n",
    "elif state == 'D':\n",
    "    print(\"D - Divorced\")\n",
    "\n",
    "elif state == 'V':\n",
    "    print(\"V - Widow\")\n",
    "\n",
    "elif state == 'O':\n",
    "    print(\"O - Other\")\n"
   ]
  },
  {
   "cell_type": "markdown",
   "id": "c122c0cf",
   "metadata": {
    "id": "c122c0cf"
   },
   "source": [
    "#### 4. Write a program that checks if the typed e-mail is part of the spam e-mails."
   ]
  },
  {
   "cell_type": "code",
   "execution_count": 2,
   "id": "59bed184",
   "metadata": {
    "id": "59bed184"
   },
   "outputs": [
    {
     "name": "stdout",
     "output_type": "stream",
     "text": [
      "enter your email: vitor@gmail.com\n"
     ]
    }
   ],
   "source": [
    "email = str(input(\"enter your email: \"))\n",
    "\n",
    "if email:\n",
    "    if ('@'and '.com') not in email:\n",
    "        print(\"enter a valid email\")\n",
    "    else:\n",
    "        pass\n",
    "else:\n",
    "    pass"
   ]
  },
  {
   "cell_type": "markdown",
   "id": "487ee073",
   "metadata": {
    "id": "487ee073"
   },
   "source": [
    "#### 5.Write a program to read two partial grades from a student. The program must calculate the average achieved per student and present:\n",
    "\n",
    "##### The \"Approved\" message, if the average achieved is greater than or equal to seven;\n",
    "##### The \"Fail\" message if the average is less than seven;\n",
    "##### The message \"Passed with Distinctions\", if the average equals ten."
   ]
  },
  {
   "cell_type": "code",
   "execution_count": null,
   "id": "7f5c7096",
   "metadata": {
    "id": "7f5c7096"
   },
   "outputs": [],
   "source": [
    "grade1 = float(input(\"Enter the first grade of the student: \"))\n",
    "if grade1:\n",
    "    grade2 = float(input(\"Enter the second grade of the student: \"))\n",
    "    if grade2:\n",
    "        medium = (grade1 + grade2) / 2\n",
    "        \n",
    "        if medium >= 7:\n",
    "            print(\"The student is aproved\")\n",
    "        elif medium <= 10:\n",
    "            print(\"the student is aproved with distinction\")\n",
    "        else:\n",
    "            print(\"the student is reproved\")\n",
    "    else:\n",
    "        print(\"enter a grade\")\n",
    "else:\n",
    "    print(\"enter a grade\")"
   ]
  },
  {
   "cell_type": "markdown",
   "id": "6dd3f171",
   "metadata": {
    "id": "6dd3f171"
   },
   "source": [
    "#### 6. Make a Program that reads the budget of 3 companies and shows the biggest one."
   ]
  },
  {
   "cell_type": "code",
   "execution_count": 10,
   "id": "51b591e5",
   "metadata": {
    "id": "51b591e5"
   },
   "outputs": [
    {
     "name": "stdout",
     "output_type": "stream",
     "text": [
      "Enter the first company budget: 1\n",
      "Enter the second company budget: 2\n",
      "Enter the third company budget: 3\n",
      "company 3 have the biggest budget\n"
     ]
    }
   ],
   "source": [
    "company1 = float(input(\"Enter the first company budget: \"))\n",
    "company2 = float(input(\"Enter the second company budget: \"))\n",
    "company3 = float(input(\"Enter the third company budget: \"))\n",
    "\n",
    "if company1 > (company2 and company3):\n",
    "    print(\"company 1 have the biggest budget\")\n",
    "elif company2 > (company1 and company3):\n",
    "    print(\"company 2 have the biggest budget\")\n",
    "elif company3 > (company2 and company1):\n",
    "    print(\"company 3 have the biggest budget\")\n",
    "else:\n",
    "    pass"
   ]
  },
  {
   "cell_type": "markdown",
   "id": "ce09ed1c",
   "metadata": {
    "id": "ce09ed1c"
   },
   "source": [
    "#### 7. Make a Program that reads three budgets and shows the biggest and smallest of them."
   ]
  },
  {
   "cell_type": "code",
   "execution_count": 9,
   "id": "249f1eb8",
   "metadata": {
    "id": "249f1eb8"
   },
   "outputs": [
    {
     "name": "stdout",
     "output_type": "stream",
     "text": [
      "Enter the first company budget: 3\n",
      "Enter the second company budget: 2\n",
      "Enter the third company budget: 1\n",
      "company 1 have the bigger budget and the company 3 have the smaller\n"
     ]
    }
   ],
   "source": [
    "company1 = float(input(\"Enter the first company budget: \"))\n",
    "company2 = float(input(\"Enter the second company budget: \"))\n",
    "company3 = float(input(\"Enter the third company budget: \"))\n",
    "\n",
    "if company1 > company2 > company3:\n",
    "    print(\"company 1 have the bigger budget and the company 3 have the smaller\")\n",
    "elif company1 > company3 > company2:\n",
    "    print(\"company 1 have the bigger budget and the company 2 have the smaller\")\n",
    "    \n",
    "elif company2 > company3 > company1:\n",
    "    print(\"company 2 have the bigger budget and the company 1 have the smaller\")\n",
    "elif company2 > company1 > company3:\n",
    "    print(\"company 2 have the bigger budget and the company 3 have the smaller\")\n",
    "\n",
    "elif company3 > company2 > company1:\n",
    "    print(\"company 3 have the bigger budget and the company 1 have the smaller\")\n",
    "else:\n",
    "    print(\"company 3 have the bigger budget and the company 2 have the smaller\")   "
   ]
  },
  {
   "cell_type": "markdown",
   "id": "7453d43a",
   "metadata": {
    "id": "7453d43a"
   },
   "source": [
    "#### 8. Make a program that asks the price of three products and tells you which product you should buy, knowing that the decision is always the cheapest."
   ]
  },
  {
   "cell_type": "code",
   "execution_count": 9,
   "id": "26a9503e",
   "metadata": {
    "id": "26a9503e"
   },
   "outputs": [
    {
     "name": "stdout",
     "output_type": "stream",
     "text": [
      "Enter the first product price: 1\n",
      "Enter the second product price: 2\n",
      "Enter the third product price: 3\n",
      "you should buy the first product\n"
     ]
    }
   ],
   "source": [
    "prod1 = float(input(\"Enter the first product price: \"))\n",
    "prod2 = float(input(\"Enter the second product price: \"))\n",
    "prod3 = float(input(\"Enter the third product price: \"))\n",
    "\n",
    "if prod1 < prod2 and prod3:\n",
    "    print(\"you should buy the first product\")\n",
    "elif prod2 < prod1 and prod3:\n",
    "    print(\"you should buy the second product\")\n",
    "elif prod3 < prod1 and prod2:\n",
    "    print(\"you should buy the third product\")"
   ]
  },
  {
   "cell_type": "markdown",
   "id": "9ade258f",
   "metadata": {
    "id": "9ade258f"
   },
   "source": [
    "#### 9. Write a program that reads three numbers and displays them in descending order."
   ]
  },
  {
   "cell_type": "code",
   "execution_count": null,
   "id": "f194c39e",
   "metadata": {
    "id": "f194c39e"
   },
   "outputs": [],
   "source": [
    "n1 = float(input(\"Enter the first number: \"))\n",
    "n2 = float(input(\"Enter a second number: \"))\n",
    "n3 = float(input(\"Enter a third number: \"))\n",
    "\n",
    "if n1 < n2 < n3:\n",
    "    print(n1, n2, n3)\n",
    "elif n1 < n3 < n2:\n",
    "    print(n1, n3, n2)\n",
    "    \n",
    "elif n2 < n1 < n3:\n",
    "    print(n2, n1, n3)\n",
    "elif n2 < n3 < n1:\n",
    "    print(n2, n3, n1)\n",
    "\n",
    "elif n3 < n1 < n2:\n",
    "    print(n3, n1, n2)\n",
    "else:\n",
    "    print(n3, n2, n1)"
   ]
  },
  {
   "cell_type": "markdown",
   "id": "d06e2fe8",
   "metadata": {
    "id": "d06e2fe8"
   },
   "source": [
    "#### 10. Make a Program that asks what shift you study. Ask to type M-Morning or V-Evening or N-Night. Print the message \"Bom Dia!\", \"Boa Tarde!\" or good night!\" or \"Invalid Value!\", as the case may be."
   ]
  },
  {
   "cell_type": "code",
   "execution_count": null,
   "id": "1eb36141",
   "metadata": {
    "id": "1eb36141"
   },
   "outputs": [],
   "source": [
    "period = str(input(\"Enter the period that you school: (M-Morning, V-Evening, N-Night)\"))\n",
    "\n",
    "if period == 'M':\n",
    "    print(\"Good morning!\")\n",
    "elif period == 'V':\n",
    "    print(\"Good evening!\")\n",
    "elif period == 'N':\n",
    "    print(\"Good night!\")"
   ]
  },
  {
   "cell_type": "markdown",
   "id": "4864b755",
   "metadata": {
    "id": "4864b755"
   },
   "source": [
    "#### 11. The Tabajara Organizations decided to give their collaborators a salary increase and hired you to develop the program that will calculate the readjustments. Make a program that receives the salary of an employee and adjusts it according to the following criteria, based on the current salary:\n",
    "\n",
    "##### salaries up to R\\\\$ 280.00 (including): 20% increase\n",
    "\n",
    "##### salaries between R\\\\$ 280.00 and R\\\\$ 700.00: 15% increase\n",
    "\n",
    "##### salaries between R\\\\$700.00 and R\\\\$1500.00: 10% increase\n",
    "\n",
    "##### wages from R\\\\$ 1500.00 onwards: 5% increase After the increase is made, inform on the screen:\n",
    "\n",
    "###### the salary before the readjustment;\n",
    "\n",
    "###### the percentage increase applied;\n",
    "\n",
    "###### the increase amount;\n",
    "\n",
    "###### the new salary, after the increase.\n",
    "\n",
    "###### Obs: Let's not worry so much about formatting numbers (number of decimal places, for example, we'll see that in the next module)"
   ]
  },
  {
   "cell_type": "code",
   "execution_count": 14,
   "id": "f0d34916",
   "metadata": {
    "id": "f0d34916"
   },
   "outputs": [
    {
     "name": "stdout",
     "output_type": "stream",
     "text": [
      "Enter the wage of the worker: 1\n",
      "The wage of $1.00 had a increase of 20% (0.20) resulting in a new wage of 1.20\n"
     ]
    }
   ],
   "source": [
    "wage = float(input(\"Enter the wage of the worker: \"))\n",
    "increase = float()\n",
    "\n",
    "if wage <= 280:\n",
    "    increase = wage * 0.2\n",
    "    print(\"The wage of ${:.2f} had a increase of 20% ({:.2f}) resulting in a new wage of {:.2f}\".format(wage, increase, wage + increase))\n",
    "\n",
    "elif 700 > wage > 280 :\n",
    "    increase = wage * 0.15\n",
    "    print(\"The wage of ${:.2f} had a increase of 15% ({:.2f}) resulting in a new wage of {:.2f}\".format(wage, increase, wage + increase))\n",
    "\n",
    "elif 1500 > wage > 700:\n",
    "    increase = wage * 0.1\n",
    "    print(\"The wage of ${:.2f} had a increase of 10% ({:.2f}) resulting in a new wage of {:.2f}\".format(wage, increase, wage + increase))\n",
    "\n",
    "elif wage > 1500:\n",
    "    increase = wage * 0.05\n",
    "    print(\"The wage of ${:.2f} had a increase of 05% ({:.2f}) resulting in a new wage of {:.2f}\".format(wage, increase, wage + increase))"
   ]
  },
  {
   "cell_type": "markdown",
   "id": "b037f1e8",
   "metadata": {
    "id": "b037f1e8"
   },
   "source": [
    "#### 12 . Make a program to calculate a payroll, knowing that the discounts are from the Income Tax, which depends on the gross salary (as shown in the table below) and 3% for the Union and that the FGTS corresponds to 11% of the Gross Salary, but it is not deducted (it is the company that deposits). Net Salary corresponds to Gross Salary minus discounts. The program should ask the user for the hourly rate and the number of hours worked in the month.\n",
    "\n",
    "IR discount:<br>\n",
    "Gross Salary up to 900 (inclusive) - exempt<br>\n",
    "Gross Salary up to 1500 (inclusive) - 5% discount<br>\n",
    "Gross Salary up to 2500 (inclusive) - 10% discount<br>\n",
    "Gross Salary above 2500 - 20% discount<br>\n",
    "Print the information on the screen, arranged according to the example below. In the example the hour value is 5 and the hour amount is 220.\n",
    "\n",
    "Gross Salary: (5 * 220) : R\\\\$ 1100.00<br>\n",
    "(-) IR (5%) : R\\\\$ 55.00<br>\n",
    "(-) INSS (10%) : R\\\\$ 110.00<br>\n",
    "FGTS (11%): R\\\\$ 121.00<br>\n",
    "Total discounts: R\\\\$ 165.00<br>\n",
    "Net Salary: R\\\\$ 935.00<br>\n",
    "\n",
    "###### Obs: Let's not worry so much about formatting numbers (number of decimal places, for example, we'll see that in the next module)"
   ]
  },
  {
   "cell_type": "code",
   "execution_count": 8,
   "id": "dad18bb2",
   "metadata": {
    "id": "dad18bb2"
   },
   "outputs": [
    {
     "name": "stdout",
     "output_type": "stream",
     "text": [
      "Enter the valueper hour : 1\n",
      "Worked hours: 2\n",
      "Brute wage: (R$1.00 * 2.00): R$ 2.00\n",
      "(-) IR (0%): R$ 0.00\n",
      "(-) INSS (10%): R$ 0.20\n",
      "FGTS (11%): R$ 0.22\n",
      "Total de descontos: R$ 0.20\n",
      "Salário Líquido: R$ 1.80\n"
     ]
    }
   ],
   "source": [
    "v_hour = float(input(\"Enter the value per hour : \"))\n",
    "w_hour = int(input(\"Worked hours: \"))\n",
    "wage = v_hour * w_hour\n",
    "print(f'Brute wage: (R${v_hour:.2f} * {w_hour:.2f}): R$ {wage:.2f}')\n",
    "\n",
    "if wage <= 900:\n",
    "    percent = 0\n",
    "elif wage <= 1500:\n",
    "    percent = 0.05\n",
    "elif wage <= 2500:\n",
    "    percent = 0.1\n",
    "else:\n",
    "    percent = 0.2\n",
    "\n",
    "ir = percent * wage\n",
    "inss = 0.1 * wage\n",
    "fgts = 0.11 * wage\n",
    "total_descont = ir + inss\n",
    "final_wage = wage - total_descont\n",
    "print(f'(-) IR ({percent * 100}%): R$ {ir:.2f}')\n",
    "print(f'(-) INSS (10%): R$ {inss:.2f}')\n",
    "print(f'FGTS (11%): R$ {fgts:.2f}')\n",
    "print(f'Total de descontos: R$ {total_descont:.2f}')\n",
    "print(f'Salário Líquido: R$ {final_wage:.2f}')\n",
    "    \n"
   ]
  },
  {
   "cell_type": "markdown",
   "id": "814fc211",
   "metadata": {
    "id": "814fc211"
   },
   "source": [
    "#### 13. Write a program that reads a number and displays the corresponding day of the week. (1-Sunday, 2-Monday, etc.), if you type another value, an invalid value should appear."
   ]
  },
  {
   "cell_type": "code",
   "execution_count": 24,
   "id": "f2c2b8d8",
   "metadata": {
    "id": "f2c2b8d8"
   },
   "outputs": [
    {
     "name": "stdout",
     "output_type": "stream",
     "text": [
      "Enter a day of the week in number: 1\n",
      "its sunday\n"
     ]
    }
   ],
   "source": [
    "day = int(input(\"Enter a day of the week in number: \"))\n",
    "\n",
    "if day == 1:\n",
    "    print(\"its sunday\")\n",
    "\n",
    "elif day == 2:\n",
    "    print(\"its monday\")\n",
    "\n",
    "elif day == 3:\n",
    "    print(\"its tuesday\")\n",
    "\n",
    "elif day == 4:\n",
    "    print(\"its wednesday\")\n",
    "\n",
    "elif day == 5:\n",
    "    print(\"its thursday\")\n",
    "\n",
    "elif day == 6:\n",
    "    print(\"its friday\")\n",
    "\n",
    "elif day == 7:\n",
    "    print(\"its saturday\")\n",
    "else:\n",
    "    print(\"enter a valid day\")"
   ]
  },
  {
   "cell_type": "markdown",
   "id": "6e5f461e",
   "metadata": {
    "id": "6e5f461e"
   },
   "source": [
    "#### 14. Make a program that reads the two partial grades obtained by a student in a course during a semester, and calculates their average. Then show what concept the student had. The attribution of concepts follows the table below:\n",
    "<pre>\n",
    "Concept Achievement Average\n",
    "Between 9.0 and 10.0 A\n",
    "Between 7.5 and 9.0 B\n",
    "Between 6.0 and 7.5 C\n",
    "Between 4.0 and 6.0 D\n",
    "Between 4.0 and zero E\n",
    "</pre>"
   ]
  },
  {
   "cell_type": "code",
   "execution_count": null,
   "id": "29721a43",
   "metadata": {
    "id": "29721a43"
   },
   "outputs": [],
   "source": [
    "grade1 = float(input(\"Enter the first grade of the student: \"))\n",
    "grade2 = float(input(\"Enter the second grade of the student: \"))\n",
    "medium = (grade1 + grade2) / 2\n",
    "\n",
    "if medium <= 4:\n",
    "    print(\"Class E\")\n",
    "\n",
    "elif 4 > medium <= 6:\n",
    "    print(\"Class D\")\n",
    "\n",
    "elif 6 > medium <= 7.5:\n",
    "    print(\"Class c\")\n",
    "\n",
    "elif 7.5 > medium <= 9:\n",
    "    print(\"Class b\")\n",
    "\n",
    "elif 9 > medium <= 10:\n",
    "    print(\"Class a\")"
   ]
  },
  {
   "cell_type": "markdown",
   "id": "e6b3bcaf",
   "metadata": {
    "id": "e6b3bcaf"
   },
   "source": [
    "#### 15. You are building a calendar to track workdays at the request of HR. In this construction, you will need to define which years are leap years and which are not, to assemble the calendar correctly. Make a Program that asks for a number corresponding to a certain year and then informs if this year is a leap year or not.\n",
    "<pre>\n",
    "Tip for determining whether a year is a leap year:\n",
    "- All years that are multiples of 400 are leap years, e.g.: 1600, 2000, 2400, 2800...\n",
    "- All multiples of 4 are leap years, except if it is a multiple of 100 but not of 400,\n",
    "eg: 1996, 2000, 2004, 2008, 2012, 2016, 2020, 2024, 2028...\n",
    "- All other years are not leap years.<br>\n",
    "ex1: 2004 is a multiple of 4, but it is not a multiple of 100, so it is a leap year.\n",
    "ex2: 2000 is a multiple of 4, but it is a multiple of 100, but it is also a multiple of 400, so it is a leap year (because every year that is a multiple of 400 is a leap year, regardless of the rest).\n",
    "ex3: 1900 is a multiple of 4, it is a multiple of 100, but it is not a multiple of 400, so it is not a leap year\n",
    "\n",
    "</pre>\n",
    "\n",
    "Tip: remember that: number % 4 is the remainder of the number divided by 4, eg: 10 % 3 = 1 (since 10/3 = 3 and 1 remains)\n",
    "\n"
   ]
  },
  {
   "cell_type": "code",
   "execution_count": null,
   "id": "56af223f",
   "metadata": {
    "id": "56af223f"
   },
   "outputs": [],
   "source": [
    "year = int(input(\"Enter a year: \"))\n",
    "if year:\n",
    "    if (year % 4 == 0 and ano % 100 != 0) or ano % 400 == 0:\n",
    "        print(\"It is a leap year\")\n",
    "    else:\n",
    "        print(\"It isnt a leap year\")    \n",
    "else:\n",
    "    print(\"Enter a year\")"
   ]
  },
  {
   "cell_type": "markdown",
   "id": "9fe532c8",
   "metadata": {
    "id": "9fe532c8"
   },
   "source": [
    "#### 16. Make a Program to read three partial grades from a student. The program must calculate the average achieved per student and present:\n",
    "<pre>\n",
    "The message \"Approved\", if the average is greater than or equal to 7, with the respective average reached;\n",
    "The message \"Failed\", if the average is less than 7, with the respective average achieved;\n",
    "The message \"Approved with Distinctions\", if the average is equal to 10.\n",
    "</pre>\n",
    "\n"
   ]
  },
  {
   "cell_type": "code",
   "execution_count": null,
   "id": "1a56e99f",
   "metadata": {
    "id": "1a56e99f"
   },
   "outputs": [],
   "source": [
    "grade1 = float(input(\"Enter the first grade of the student: \"))\n",
    "if grade1:\n",
    "    grade2 = float(input(\"Enter the second grade of the student: \"))\n",
    "    if grade2:\n",
    "        grade3 = float(input(\"Enter the third grade of the student: \"))\n",
    "        medium = (grade1 + grade2 + grade3) / 3\n",
    "        \n",
    "        if medium >= 7:\n",
    "            print(\"The student is aproved\")\n",
    "        elif medium <= 10:\n",
    "            print(\"the student is aproved with distinction\")\n",
    "        else:\n",
    "            print(\"the student is reproved\")\n",
    "    else:\n",
    "        print(\"enter a grade\")\n",
    "else:\n",
    "    print(\"enter a grade\")"
   ]
  },
  {
   "cell_type": "markdown",
   "id": "d544412e",
   "metadata": {
    "id": "d544412e"
   },
   "source": [
    "#### 17. John, a good man, bought a microcomputer to control the daily income of his work. Every time he brings a weight of fish greater than that established by the fishing regulations of the state of São Paulo (50 kilos), he must pay a fine of R$ 4.00 per excess kilo. John needs you to write a program that reads the weight variable (fish weight) and calculates the excess. Record in the excess variable the amount of kilos beyond the limit and in the fine variable the amount of the fine that João will have to pay. Print the program data with the appropriate messages.\n",
    "\n"
   ]
  },
  {
   "cell_type": "code",
   "execution_count": null,
   "id": "971ed027",
   "metadata": {
    "id": "971ed027"
   },
   "outputs": [],
   "source": [
    "weight = float(input(\"Enter the weight of the fish: \"))\n",
    "\n",
    "if weight > 50:\n",
    "    fine = (weight - 50) * 4\n",
    "    print(\"The fish with a weight of {:.2f} have a fine of {:.2f}\".format(weight, fine))\n",
    "else:\n",
    "    print(\"The weight of the fish is under the law\")"
   ]
  },
  {
   "cell_type": "markdown",
   "id": "0e5256e0",
   "metadata": {
    "id": "0e5256e0"
   },
   "source": [
    "#### 18. Make a Program for an ATM. The program should ask the user the value of the withdrawal and then inform how many bills of each value will be provided. The notes available will be 1, 5, 10, 50 and 100 reais. The minimum amount is R$10 and the maximum is R$600. The program shouldn't worry about the amount of banknotes in the machine.\n",
    "<pre>\n",
    "Example 1: To withdraw the amount of 256 reais, the program provides two 100 bills, a 50 bill, a 5 bill and a 1 bill;\n",
    "Example 2: To withdraw the amount of 399 reais, the program provides three 100 bills, one 50 bill, four 10 bills, one 5 bill and four 1 bill.\n",
    "</pre>\n",
    "\n",
    "Tip1: number // 10 will give you the integer part of dividing the number by 10 as an answer.<br>\n",
    "Tip2: number % 10 will give you the remainder of the number divided by 10.\n",
    "\n"
   ]
  },
  {
   "cell_type": "code",
   "execution_count": null,
   "id": "9b4244c7",
   "metadata": {
    "id": "9b4244c7"
   },
   "outputs": [],
   "source": [
    "money_take = float(input(\"Enter the money take: (min )\"))\n",
    "\n",
    "n100 = 0\n",
    "n50 = 0\n",
    "n10 = 0\n",
    "n5 = 0\n",
    "n1 = 0\n",
    "\n",
    "if 10 <= money_take <= 600:\n",
    "    print(\"It will be needed:\")\n",
    "    if money_take > 100:\n",
    "        n100 = money_take // 100\n",
    "        print(n100, \"notes of 100\")\n",
    "    if money_take % 100 >= 50:\n",
    "        n50 = (money_take - 100 * n100) // 50\n",
    "        print(n50, \"notes of 50\")\n",
    "    if money_take % 50 >= 10:\n",
    "        n10 = (money_take - 100 * n100 - 50 * n50) // 10\n",
    "        print(n10, \"notes of 10\")\n",
    "    if money_take % 10 >= 5:\n",
    "        n5 = (money_take - 100 * n100 - 50 * n50 - 10 * n10) // 5\n",
    "        print(n5, \"notes of 5\")\n",
    "    if money_take % 5 >= 1:\n",
    "        n1 = (money_take - 100 * n100 - 50 * n50 - 10 * n10 - 5 * n5)\n",
    "        print(n1, \"notes of 1\")"
   ]
  },
  {
   "cell_type": "markdown",
   "id": "cba47494",
   "metadata": {
    "id": "cba47494"
   },
   "source": [
    "#### 19. Make a program that asks a person 5 questions about a crime. The questions are:\n",
    "<pre>\n",
    "\"Did you call the victim?\"\n",
    "\"Were you at the crime scene?\"\n",
    "\"Do you live near the victim?\"\n",
    "\"Owed to the victim?\"\n",
    "\"Have you ever worked with the victim?\"\n",
    "The program should ultimately issue a rating on the person's participation in the crime. If the person responds positively to 2 questions, he must be classified as \"Suspect\", between 3 and 4 as \"Accomplice\" and 5 as \"Murderer\". Otherwise, he will be classified as \"Innocent\".\n",
    "</pre>"
   ]
  },
  {
   "cell_type": "code",
   "execution_count": 3,
   "id": "5fdf9b88",
   "metadata": {
    "id": "5fdf9b88"
   },
   "outputs": [
    {
     "name": "stdout",
     "output_type": "stream",
     "text": [
      "Answer only 'y' and 'n', 'y' for yes and 'n' for no\n",
      "Phoned the victim: y\n",
      "Was in the local of the crime: y\n",
      "Live near the victim: y\n",
      "Worked with the victim: y\n",
      "Assassin\n"
     ]
    }
   ],
   "source": [
    "print(\"Answer only 'y' and 'n', 'y' for yes and 'n' for no\")\n",
    "i = 0\n",
    "telephone = str(input(\"Phoned the victim: \"))\n",
    "if telephone == 'y':\n",
    "    i = i + 1\n",
    "local = str(input(\"Was in the local of the crime: \"))\n",
    "if local == 'y':\n",
    "    i = i + 1\n",
    "live = str(input(\"Live near the victim: \"))\n",
    "if live == 'y':\n",
    "    i = i + 1\n",
    "owed = str(input(\"owed to the victim: \"))\n",
    "if owed == 'y':\n",
    "    i = i + 1\n",
    "work = str(input(\"Worked with the victim: \"))\n",
    "if work == 'y':\n",
    "    i = i + 1\n",
    "if i == 2:\n",
    "    print(\"Suspect\")\n",
    "elif 3 <= i <= 4:\n",
    "    print(\"Accomplice\")\n",
    "elif i == 5:\n",
    "    print(\"Assassin\")\n",
    "else:\n",
    "    print(\"Inocent\")"
   ]
  },
  {
   "cell_type": "markdown",
   "id": "18901e98",
   "metadata": {
    "id": "18901e98"
   },
   "source": [
    "#### 20. A service station is selling fuel with the following discount table:\n",
    "<pre>\n",
    "Alcohol:\n",
    "up to 20 liters, 3% discount per liter\n",
    "over 20 litres, 5% discount per liter\n",
    "Gasoline:\n",
    "up to 20 liters, 4% discount per liter\n",
    "over 20 litres, 6% discount per liter\n",
    "\n",
    "Write an algorithm that reads the number of liters sold, the type of fuel (coded as follows: A-alcohol, G-gasoline), calculates and prints the amount to be paid by the customer, knowing that the price of a liter of gasoline is R$ 2.50 the price of a liter of alcohol is R$ 1.90.\n",
    "</pre>"
   ]
  },
  {
   "cell_type": "code",
   "execution_count": null,
   "id": "a1fd8c38",
   "metadata": {
    "id": "a1fd8c38"
   },
   "outputs": [],
   "source": [
    "fuel = str(input(\"Enter the type of fuel :(gas OR alc) \"))\n",
    "liter = float(input(\"Enter the quantity of liter: \"))\n",
    "discont = float()\n",
    "price = float()\n",
    "\n",
    "if fuel == 'alc':\n",
    "    price = liter * 1.90\n",
    "    if liter <= 20:\n",
    "        discont = liter * 0.03\n",
    "        print(\"The price was ${:.2f}\".format(price - discont ))\n",
    "    else:\n",
    "        discont = price * 0.05\n",
    "        print(\"The price was ${:.2f}\".format(price - discont ))\n",
    "elif fuel == 'gas':\n",
    "    price = liter * 2.50\n",
    "    if liter <= 20:\n",
    "        discont = price * 0.04\n",
    "        print(\"The price was ${:.2f}\".format(price - discont))\n",
    "    else:\n",
    "        discont = price * 0.06\n",
    "        print(\"The price was ${:.2f}\".format(price - discont))"
   ]
  },
  {
   "cell_type": "markdown",
   "id": "be0f8f32",
   "metadata": {
    "id": "be0f8f32"
   },
   "source": [
    "#### 21. A fruit shop is selling fruit with the following price list:\n",
    "<pre>\n",
    "                      Up to 5 kg Over 5 kg\n",
    "Strawberry R$ 2.50 per kg R$ 2.20 per kg\n",
    "Apple R$ 1.80 per kg R$ 1.50 per kg\n",
    "If the customer buys more than 8 kg of fruit or the total purchase price exceeds R$ 25.00, he will also receive a 10% discount on this total. Write an algorithm to read the amount (in Kg) of strawberries and the amount (in Kg) of apples purchased and write the amount to be paid by the customer.\n",
    "</pre>"
   ]
  },
  {
   "cell_type": "code",
   "execution_count": null,
   "id": "35c47c8e",
   "metadata": {
    "id": "35c47c8e"
   },
   "outputs": [],
   "source": [
    "strawberry = float(input(\"Enter the kilo of strawberry you want to buy: \"))\n",
    "price_berry = float()\n",
    "if strawberry <= 5:\n",
    "    price_berry = strawberry * 2.50\n",
    "elif strawberry > 5:\n",
    "    price_berry = strawberry * 2.20\n",
    "    if price_berry > 25 or strawberry > 8:\n",
    "        price_berry = price_berry - (price_berry * 0.1)\n",
    "    else:\n",
    "        pass\n",
    "\n",
    "apple = float(input(\"Enter the kilo of apple you want to buy: \"))\n",
    "price_apple = float()\n",
    "if apple<= 5:\n",
    "    price_apple= apple * 2.50\n",
    "elif apple > 5:\n",
    "    price_apple= apple * 2.20\n",
    "    if price_apple> 25 or apple > 8:\n",
    "        price_apple= price_apple - (price_apple * 0.1)\n",
    "    else:\n",
    "        pass\n",
    "\n",
    "print(\"The price of strawberry was ${:.2f} and the apple was ${:.2f}\".format(price_berry, price_apple))"
   ]
  },
  {
   "cell_type": "markdown",
   "id": "4dbd53ed",
   "metadata": {
    "id": "4dbd53ed"
   },
   "source": [
    "#### 22. The Hypermarket has a meat promotion that is unmissable. Check out:\n",
    "<pre>\n",
    "                      Up to 5 kg Over 5 kg\n",
    "Double Fillet BRL 4.90 per Kg BRL 5.80 per Kg\n",
    "Rump BRL 5.90 per Kg BRL 6.80 per Kg\n",
    "Picanha R$ 6.90 per kg R$ 7.80 per kg\n",
    "To serve all customers, each customer can only take one of the types of meat in the promotion, but there are no limits to the amount of meat per customer. If the purchase is made using the market card, the customer will also receive a 5% discount on the total purchase. Write a program that asks for the type and quantity of meat purchased by the user and generates a tax receipt, containing the purchase information: type and quantity of meat, total price, type of payment, discount amount and amount to be paid.\n",
    "</pre>\n",
    "\n"
   ]
  },
  {
   "cell_type": "code",
   "execution_count": null,
   "id": "15a77357",
   "metadata": {
    "id": "15a77357"
   },
   "outputs": [],
   "source": [
    "type_meat = str(input(\"Enter the type of meat: (filet, rump, steak)\"))\n",
    "kilo = float(input(\"KILO: \"))\n",
    "price = float()\n",
    "payment = str(input(\"Enter the payment method: (card - client card OR normal)\"))\n",
    "\n",
    "if type_meat == 'filet':\n",
    "    if kilo <= 5:\n",
    "        price = kilo * 4.90\n",
    "        if payment == 'card':\n",
    "            price = price - (price * 0.05)\n",
    "        else:\n",
    "            pass\n",
    "    else:\n",
    "        price = kilo * 5.80\n",
    "        if payment == 'card':\n",
    "            price = price - (price * 0.05)\n",
    "        else:\n",
    "            pass\n",
    "\n",
    "if type_meat == 'rump':\n",
    "    if kilo <= 5:\n",
    "        price = kilo * 5.90\n",
    "        if payment == 'card':\n",
    "            price = price - (price * 0.05)\n",
    "        else:\n",
    "            pass\n",
    "    else:\n",
    "        price = kilo * 6.80\n",
    "        if payment == 'card':\n",
    "            price = price - (price * 0.05)\n",
    "        else:\n",
    "            pass\n",
    "\n",
    "if type_meat == 'steak':\n",
    "    if kilo <= 5:\n",
    "        price = kilo * 6.90\n",
    "        if payment == 'card':\n",
    "            price = price - (price * 0.05)\n",
    "        else:\n",
    "            pass\n",
    "    else:\n",
    "        price = kilo * 7.80\n",
    "        if payment == 'card':\n",
    "            price = price - (price * 0.05)\n",
    "        else:\n",
    "            pass\n",
    "        \n",
    "print(\"The total price is ${:.f}\".format(price))"
   ]
  },
  {
   "cell_type": "markdown",
   "id": "b949545b",
   "metadata": {
    "id": "b949545b"
   },
   "source": [
    "#### 23. Make a Program for a paint store. The program should ask for the size in square meters of the area to be painted. Consider that the coverage of the paint is 1 liter for every 6 square meters and that the paint is sold in 18 liter cans, which cost R\\\\$ 80.00, or in 3.6 liter cans, which cost R\\\\ $25.00"
   ]
  },
  {
   "cell_type": "code",
   "execution_count": 1,
   "id": "b11185b0",
   "metadata": {
    "id": "b11185b0"
   },
   "outputs": [
    {
     "name": "stdout",
     "output_type": "stream",
     "text": [
      "Enter the area that will be painted: 1\n"
     ]
    }
   ],
   "source": [
    "area = float(input(\"Enter the area that will be painted: \"))\n",
    "liter_paint = area / 6\n"
   ]
  },
  {
   "cell_type": "markdown",
   "id": "b3d0598f",
   "metadata": {
    "id": "b3d0598f"
   },
   "source": [
    "##### Inform the user with the quantities of ink to be purchased and the respective prices in 3 situations.\n",
    "\n",
    "Hint: remember the operators // and % shown in previous exercises<br>\n",
    "Tip1: number // 10 will give you the integer part of dividing the number by 10 as an answer.<br>\n",
    "Tip2: number % 10 will give you the remainder of the number divided by 10.\n",
    "\n",
    "##### 1. Buy only 18 liter cans: (whole cans only)"
   ]
  },
  {
   "cell_type": "code",
   "execution_count": 3,
   "id": "ed599d53",
   "metadata": {
    "id": "ed599d53"
   },
   "outputs": [
    {
     "name": "stdout",
     "output_type": "stream",
     "text": [
      "108.0\n"
     ]
    }
   ],
   "source": [
    "if liter_paint % 18 > 0:\n",
    "    tin = liter_paint // 18 + 1\n",
    "else:\n",
    "    tin = liter_paint // 18\n",
    "price = tin * 80\n",
    "print(\"It will be needed {} tins of paint that will cost ${:.2f}\".format(tin, price))"
   ]
  },
  {
   "cell_type": "markdown",
   "id": "ab03bc10",
   "metadata": {
    "id": "ab03bc10"
   },
   "source": [
    "##### 2. Buy only 3.6 liter gallons: (whole gallons only)"
   ]
  },
  {
   "cell_type": "code",
   "execution_count": null,
   "id": "542f4a77",
   "metadata": {
    "id": "542f4a77"
   },
   "outputs": [],
   "source": [
    "if liter_paint % 3.6 > 0:\n",
    "    gallon = liter_paint // 3.6 + 1\n",
    "else:\n",
    "    gallon = liter_paint // 3.6\n",
    "price = gallon * 25\n",
    "print(\"It will be needed {} tins of paint that will cost ${:.2f}\".format(gallon, price))"
   ]
  },
  {
   "cell_type": "markdown",
   "id": "8Jbw7RupH9Nc",
   "metadata": {
    "id": "8Jbw7RupH9Nc"
   },
   "source": [
    "##### 3. Mix cans and gallons, so that paint waste is less. Add 10% slack and always round up, ie consider full cans."
   ]
  },
  {
   "cell_type": "markdown",
   "id": "93d4157b",
   "metadata": {
    "id": "93d4157b"
   },
   "source": [
    "The cost of the can is 80/18 = 4.44 R\\\\$/L\n",
    "\n",
    "The cost of the gallon is 25/3.6 = 6.94 R\\\\$/L\n",
    "\n",
    "The can is more economical, so all the whole cans that we can use must be bought in cans. If something is missing to complete, we must evaluate whether it is better to buy cans or gallons. Example:\n",
    "\n",
    "If we want to buy 90 liters. 5 cans make exactly 90 liters. So we must buy everything in cans.\n",
    "\n",
    "If we want to buy 95 liters. 5 cans make exactly 90 liters. So we must buy at least 5 cans and assess what is missing, whether these last 5 liters are worth more only in cans or gallons.\n",
    "\n",
    "For the missing 5 liters we need 2 gallons that cost 50 reais in total. Or a can that costs 80 reais in total. Therefore, in this case it is better to use 2 gallons.\n",
    "\n",
    "If we want to buy 107 liters. 5 cans make exactly 90 liters. So we must buy at least 5 cans and assess what is missing, whether these last 5 liters are worth more only in cans or gallons.\n",
    "\n",
    "For the missing 17 liters we need 5 gallons which cost 125 reais in total. Or a can that costs 80 reais in total. Therefore, in this case it is more worthwhile to use a can.\n",
    "\n",
    "3 gallons cost 75 reais, 4 gallons cost 100 reais. So, if it is possible to complete with up to 3 gallons, choose gallons. Any quantity greater than 3 gallons, cans are used."
   ]
  },
  {
   "cell_type": "code",
   "execution_count": 12,
   "id": "01d104b6",
   "metadata": {
    "id": "01d104b6"
   },
   "outputs": [
    {
     "name": "stdout",
     "output_type": "stream",
     "text": [
      "São necessários 0.0 latas e 1.0 galões. Custando R$ 25.0 no total\n"
     ]
    }
   ],
   "source": [
    "liter_off = liter_paint * 1.1\n",
    "gallon = 0\n",
    "\n",
    "tin = liter_off // 18\n",
    "\n",
    "\n",
    "miss_paint = liter_off - 18 * tin\n",
    "\n",
    "if miss_paint > 0:\n",
    "    if miss_paint % 3.6 > 0:\n",
    "        miss_gallon = miss_paint // 3.6 + 1\n",
    "    else:\n",
    "        miss_gallon = miss_paint // 3.6\n",
    "    if miss_gallon <= 3:\n",
    "        gallon = miss_gallon\n",
    "    else:\n",
    "        gallon = 0\n",
    "        tin = tin + 1\n",
    "\n",
    "price = tin * 80 + gallon * 25\n",
    "print(f\"Its needed {tin} tins and {gallon} gallons. The total price is ${price}\")"
   ]
  }
 ],
 "metadata": {
  "colab": {
   "collapsed_sections": [],
   "provenance": []
  },
  "kernelspec": {
   "display_name": "Python 3 (ipykernel)",
   "language": "python",
   "name": "python3"
  },
  "language_info": {
   "codemirror_mode": {
    "name": "ipython",
    "version": 3
   },
   "file_extension": ".py",
   "mimetype": "text/x-python",
   "name": "python",
   "nbconvert_exporter": "python",
   "pygments_lexer": "ipython3",
   "version": "3.10.9"
  }
 },
 "nbformat": 4,
 "nbformat_minor": 5
}

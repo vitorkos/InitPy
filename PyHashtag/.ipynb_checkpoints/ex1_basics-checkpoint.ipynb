{
 "cells": [
  {
   "cell_type": "markdown",
   "metadata": {
    "id": "Pi-CJIef1ul1"
   },
   "source": [
    "# exercises first module - operations, variables and input"
   ]
  },
  {
   "cell_type": "markdown",
   "metadata": {
    "id": "FJ2bFoIx1umA"
   },
   "source": [
    "### Part 1 - Operation e Variables\n",
    "Create a program that prints (print) the main indicators of the Hashtag&Drink store in the last year.\n",
    "Note: do everything using variables.\n",
    "\n",
    "Last year values:\n",
    "\n",
    "Coke Sales Amount = 150<br>\n",
    "Pepsi Sales Amount = 130<br>\n",
    "Coke Unit Price = 1.50 <br>\n",
    "Pepsi Unit Price = 1.50<br>\n",
    "Store cost: 2,500.00\n",
    "\n",
    "Use the block below to create all the variables you need."
   ]
  },
  {
   "cell_type": "code",
   "execution_count": 8,
   "metadata": {
    "id": "8ou0OBBX1umC"
   },
   "outputs": [],
   "source": [
    "coke_revanue = 150 * 1.50\n",
    "\n",
    "pepsi_revanue = 130 * 1.50\n",
    "\n",
    "turnover = coke_revanue + pepsi_revanue\n",
    "\n",
    "store_profit = turnover - 2500"
   ]
  },
  {
   "cell_type": "markdown",
   "metadata": {
    "id": "fW0kX-qN1umD"
   },
   "source": [
    "1. What was the store's Pepsi revenue?"
   ]
  },
  {
   "cell_type": "code",
   "execution_count": 9,
   "metadata": {
    "id": "zsBMI5vg1umE"
   },
   "outputs": [
    {
     "name": "stdout",
     "output_type": "stream",
     "text": [
      "the revenue of the store selling pepsi was $ 195.0\n"
     ]
    }
   ],
   "source": [
    "print('the revenue of the store selling pepsi was $', pepsi_revanue)"
   ]
  },
  {
   "cell_type": "markdown",
   "metadata": {
    "id": "xgxOvmRz1umF"
   },
   "source": [
    "2. What was the Loja's Coke revenue?"
   ]
  },
  {
   "cell_type": "code",
   "execution_count": 10,
   "metadata": {
    "id": "NpsI_giv1umG"
   },
   "outputs": [
    {
     "name": "stdout",
     "output_type": "stream",
     "text": [
      "the revenue of the store selling coke was $ 225.0\n"
     ]
    }
   ],
   "source": [
    "print('the revenue of the store selling coke was $', coke_revanue)"
   ]
  },
  {
   "cell_type": "markdown",
   "metadata": {
    "id": "8D_0mYbI1umH"
   },
   "source": [
    "3. What was the store's profit?"
   ]
  },
  {
   "cell_type": "code",
   "execution_count": 11,
   "metadata": {
    "id": "doMwJLC-1umI"
   },
   "outputs": [
    {
     "name": "stdout",
     "output_type": "stream",
     "text": [
      "the store profit was $ -2080.0\n"
     ]
    }
   ],
   "source": [
    "print('the store profit was $', store_profit)"
   ]
  },
  {
   "cell_type": "markdown",
   "metadata": {
    "id": "bdua5-Ct1umJ"
   },
   "source": [
    "4. What was the Store Margin? (Remember, margin = Profit / Turnover). No need to format in percentage"
   ]
  },
  {
   "cell_type": "code",
   "execution_count": 12,
   "metadata": {
    "id": "ySAB6BNL1umK"
   },
   "outputs": [
    {
     "name": "stdout",
     "output_type": "stream",
     "text": [
      "the margin of the store is $ -4.9523809523809526\n"
     ]
    }
   ],
   "source": [
    "print('the margin of the store is $', store_profit / turnover)"
   ]
  },
  {
   "cell_type": "markdown",
   "metadata": {
    "id": "D1mYymiP1umL"
   },
   "source": [
    "### Part 2 - Inputs e Strings"
   ]
  },
  {
   "cell_type": "markdown",
   "metadata": {
    "id": "mcbTaP8b1umN"
   },
   "source": [
    "Most companies work with a Code for each product they have. Hashtag&Drink, for example, has more than 1,000 products and has a code for each product. Ex: Coke -> Code: BEB1300543\n",
    "Pepsi -> Code: BEB1300545\n",
    "Primitivo Lucarelli wine -> Code: BAC1546001\n",
    "Smirnoff Vodka -> Code: BAC17675002\n",
    "\n",
    "Note that all non-alcoholic drinks start with the code \"BEB\" and all alcoholic drinks start with the code \"BAC\".\n",
    "\n",
    "Create a drink query program that, given any code, identifies whether the drink is alcoholic. The program should answer True for alcoholic beverages and False for non-alcoholic beverages. To insert a code, use an input.\n",
    "\n",
    "Tip: Remember the in command for strings and always enter the codes in capital letters to make it easier."
   ]
  },
  {
   "cell_type": "code",
   "execution_count": null,
   "metadata": {
    "id": "IUrYt1hs1umQ"
   },
   "outputs": [
    {
     "name": "stdout",
     "output_type": "stream",
     "text": [
      "TRUE for alcoholic drinks and FALSE for non-alcoholics\n"
     ]
    }
   ],
   "source": [
    "print('TRUE for alcoholic drinks and FALSE for non-alcoholics')\n",
    "\n",
    "code = input('enter the code of the drink: (examples: BEB312818201, BAC8327298, BEB3322424)')\n",
    "\n",
    "print('BEB' in code)"
   ]
  }
 ],
 "metadata": {
  "colab": {
   "provenance": []
  },
  "kernelspec": {
   "display_name": "Python 3 (ipykernel)",
   "language": "python",
   "name": "python3"
  },
  "language_info": {
   "codemirror_mode": {
    "name": "ipython",
    "version": 3
   },
   "file_extension": ".py",
   "mimetype": "text/x-python",
   "name": "python",
   "nbconvert_exporter": "python",
   "pygments_lexer": "ipython3",
   "version": "3.10.9"
  }
 },
 "nbformat": 4,
 "nbformat_minor": 1
}
